{
 "cells": [
  {
   "cell_type": "code",
   "execution_count": 1,
   "id": "17bd49bc",
   "metadata": {},
   "outputs": [],
   "source": [
    "import networkx as nx\n",
    "from qa.generator import QAGenerator\n",
    "from qa.templates import TEMPLATES\n",
    "from llm.manager import LLMManager, LLMModel"
   ]
  },
  {
   "cell_type": "code",
   "execution_count": 2,
   "id": "378efee1",
   "metadata": {},
   "outputs": [
    {
     "data": {
      "application/vnd.jupyter.widget-view+json": {
       "model_id": "bde612dca5de4ee1abcddc605faf7a06",
       "version_major": 2,
       "version_minor": 0
      },
      "text/plain": [
       "Loading checkpoint shards:   0%|          | 0/2 [00:00<?, ?it/s]"
      ]
     },
     "metadata": {},
     "output_type": "display_data"
    },
    {
     "name": "stderr",
     "output_type": "stream",
     "text": [
      "Device set to use mps\n"
     ]
    }
   ],
   "source": [
    "model = LLMModel()\n",
    "llm = LLMManager(model)\n",
    "judge = LLMManager(model, track_history=False)"
   ]
  },
  {
   "cell_type": "code",
   "execution_count": 3,
   "id": "d1330fe3",
   "metadata": {},
   "outputs": [],
   "source": [
    "graph = nx.read_graphml(\"../data/municipalities_peaks_castles.graphml\")"
   ]
  },
  {
   "cell_type": "code",
   "execution_count": null,
   "id": "09aa022e",
   "metadata": {},
   "outputs": [
    {
     "name": "stdout",
     "output_type": "stream",
     "text": [
      "Generated 1 questions after 1 attempts.\n",
      "Vrh M. Spicje leži v občini Bohinj.\n",
      "Correct: Občina Bohinj\n",
      "Odgovor uporabnika: Vrh M. Spicje leži v občini Bohinj.\n",
      "Pravilen odgovor: Občina Bohinj\n",
      "Ali odgovor uporabnika vsebuje pravilne informacije? (da/ne)\n",
      "Incorrect!\n"
     ]
    }
   ],
   "source": [
    "llm.clear_history()\n",
    "\n",
    "generator = QAGenerator()\n",
    "[qa] = generator.generate_questions(graph, TEMPLATES, num_questions=1, add_distractors=10)\n",
    "\n",
    "context = [str(fact) for fact in qa.context_facts]\n",
    "answer = llm.ask(f\"Kontekst: {' '.join(context)}\\nVprašanje: {qa.question}\")\n",
    "\n",
    "print(f\"Odgovor uporabnika: {answer}\\nPravilen odgovor: {qa.answer}\\nAli odgovor uporabnika vsebuje pravilne informacije? (da/ne)\")\n",
    "response = judge.ask(f\"Odgovor uporabnika: {answer}\\nPravilen odgovor: {qa.answer}\\nAli odgovor uporabnika vsebuje pravilne informacije? (da/ne)\", max_new_tokens=1)\n",
    "if response.lower() in [\"yes\", \"da\", \"ja\", \"y\", \"j\", \"d\"]:\n",
    "\tprint(\"Correct!\")\n",
    "elif response.lower() in [\"no\", \"ne\", \"n\"]:\n",
    "\tprint(\"Incorrect!\")\n",
    "else:\n",
    "\tprint(\"Unknown response:\", response)"
   ]
  }
 ],
 "metadata": {
  "kernelspec": {
   "display_name": ".venv",
   "language": "python",
   "name": "python3"
  },
  "language_info": {
   "codemirror_mode": {
    "name": "ipython",
    "version": 3
   },
   "file_extension": ".py",
   "mimetype": "text/x-python",
   "name": "python",
   "nbconvert_exporter": "python",
   "pygments_lexer": "ipython3",
   "version": "3.10.17"
  }
 },
 "nbformat": 4,
 "nbformat_minor": 5
}
