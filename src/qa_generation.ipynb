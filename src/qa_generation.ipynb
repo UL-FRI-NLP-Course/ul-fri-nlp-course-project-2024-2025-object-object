{
 "cells": [
  {
   "cell_type": "code",
   "execution_count": 1,
   "id": "222195f7",
   "metadata": {},
   "outputs": [],
   "source": [
    "import json\n",
    "import networkx as nx\n",
    "from qa.generator import QAGenerator\n",
    "from qa.templates import TEMPLATES"
   ]
  },
  {
   "cell_type": "code",
   "execution_count": 2,
   "id": "84a68b5d",
   "metadata": {},
   "outputs": [],
   "source": [
    "graph = nx.read_graphml(\"../data/municipalities_peaks_castles.graphml\")"
   ]
  },
  {
   "cell_type": "code",
   "execution_count": 3,
   "id": "5eeb71a0",
   "metadata": {},
   "outputs": [
    {
     "name": "stdout",
     "output_type": "stream",
     "text": [
      "Generated 1 questions after 1 attempts.\n",
      "QA(question='V kateri občini leži vrh Vajnež?', answer='Občina Jesenice', num_facts=11)\n",
      "<Občina Jesenice> <ima_vrh> <Ptičji vrh>.\n",
      "<Občina Jesenice> <ima_vrh> <Golica>.\n",
      "<Občina Jesenice> <ima_vrh> <Ledinski vrh>.\n",
      "<Vajnež> <se_nahaja_v> <Občina Jesenice>.\n",
      "<Vajnež> <ima_višino> <2104.0>.\n",
      "<Občina Jesenice> <ima_vrh> <Veliki vrh>.\n",
      "<Občina Jesenice> <ima_vrh> <Potoški Stol>.\n",
      "<Občina Jesenice> <ima_vrh> <Vajnež>.\n",
      "<Občina Jesenice> <ima_populacijo> <21519>.\n",
      "<Občina Jesenice> <ima_vrh> <Jesenice>.\n",
      "<Občina Jesenice> <ima_površino> <75.8>.\n"
     ]
    }
   ],
   "source": [
    "generator = QAGenerator()\n",
    "qas = generator.generate_questions(graph, TEMPLATES, num_questions=1, add_distractors=10)\n",
    "for qa in qas:\n",
    "\tprint(qa)\n",
    "\tfor fact in qa.context_facts:\n",
    "\t\tprint(fact)"
   ]
  },
  {
   "cell_type": "code",
   "execution_count": 4,
   "id": "e4f44c8a",
   "metadata": {},
   "outputs": [
    {
     "name": "stdout",
     "output_type": "stream",
     "text": [
      "Generated 10000 questions after 10927 attempts.\n"
     ]
    }
   ],
   "source": [
    "generator = QAGenerator()\n",
    "qas = generator.generate_questions(graph, TEMPLATES, num_questions=10000)\n",
    "\n",
    "with open(\"../data/finetune_data.json\", \"w\") as f:\n",
    "\tjson.dump([{\"prompt\": qa.question, \"response\": qa.answer} for qa in qas], f, indent=2)"
   ]
  }
 ],
 "metadata": {
  "kernelspec": {
   "display_name": ".venv",
   "language": "python",
   "name": "python3"
  },
  "language_info": {
   "codemirror_mode": {
    "name": "ipython",
    "version": 3
   },
   "file_extension": ".py",
   "mimetype": "text/x-python",
   "name": "python",
   "nbconvert_exporter": "python",
   "pygments_lexer": "ipython3",
   "version": "3.10.17"
  }
 },
 "nbformat": 4,
 "nbformat_minor": 5
}
