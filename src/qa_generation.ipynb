{
 "cells": [
  {
   "cell_type": "code",
   "execution_count": 1,
   "id": "222195f7",
   "metadata": {},
   "outputs": [],
   "source": [
    "import networkx as nx\n",
    "from qa.generator import QAGenerator\n",
    "from qa.templates import TEMPLATES"
   ]
  },
  {
   "cell_type": "code",
   "execution_count": 2,
   "id": "84a68b5d",
   "metadata": {},
   "outputs": [],
   "source": [
    "graph = nx.read_graphml(\"municipalities_peaks_castles.graphml\")"
   ]
  },
  {
   "cell_type": "code",
   "execution_count": 3,
   "id": "5eeb71a0",
   "metadata": {},
   "outputs": [
    {
     "name": "stdout",
     "output_type": "stream",
     "text": [
      "Generated 1 questions after 1 attempts.\n",
      "QA(question='V kateri statistični regiji stoji grad stari grad Polhov Gradec?', answer='osrednjeslovenska statistična regija', num_facts=12)\n",
      "<osrednjeslovenska statistična regija> <has_municipality> <Občina Škofljica>.\n",
      "<osrednjeslovenska statistična regija> <has_municipality> <Občina Ivančna Gorica>.\n",
      "<osrednjeslovenska statistična regija> <has_municipality> <Občina Borovnica>.\n",
      "<osrednjeslovenska statistična regija> <has_municipality> <Občina Litija>.\n",
      "<Občina Dobrova - Polhov Gradec> <has_peak> <Grmada, Polhograjsko hribovje>.\n",
      "<osrednjeslovenska statistična regija> <has_municipality> <Občina Logatec>.\n",
      "<osrednjeslovenska statistična regija> <has_municipality> <Občina Brezovica>.\n",
      "<osrednjeslovenska statistična regija> <has_municipality> <Občina Velike Lašče>.\n",
      "<Občina Dobrova - Polhov Gradec> <located_in> <osrednjeslovenska statistična regija>.\n",
      "<stari grad Polhov Gradec> <located_in> <Občina Dobrova - Polhov Gradec>.\n",
      "<osrednjeslovenska statistična regija> <has_municipality> <Občina Dol pri Ljubljani>.\n",
      "<osrednjeslovenska statistična regija> <has_municipality> <Občina Trzin>.\n"
     ]
    }
   ],
   "source": [
    "generator = QAGenerator()\n",
    "qas = generator.generate_questions(graph, TEMPLATES, num_questions=1, add_distractors=10)\n",
    "for qa in qas:\n",
    "\tprint(qa)\n",
    "\tfor fact in qa.context_facts:\n",
    "\t\tprint(fact)"
   ]
  }
 ],
 "metadata": {
  "kernelspec": {
   "display_name": ".venv",
   "language": "python",
   "name": "python3"
  },
  "language_info": {
   "codemirror_mode": {
    "name": "ipython",
    "version": 3
   },
   "file_extension": ".py",
   "mimetype": "text/x-python",
   "name": "python",
   "nbconvert_exporter": "python",
   "pygments_lexer": "ipython3",
   "version": "3.10.17"
  }
 },
 "nbformat": 4,
 "nbformat_minor": 5
}
