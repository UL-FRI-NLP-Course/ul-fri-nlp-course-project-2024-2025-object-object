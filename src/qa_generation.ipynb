{
 "cells": [
  {
   "cell_type": "code",
   "execution_count": 1,
   "id": "222195f7",
   "metadata": {},
   "outputs": [],
   "source": [
    "import networkx as nx\n",
    "from qa.generator import QAGenerator\n",
    "from qa.templates import TEMPLATES"
   ]
  },
  {
   "cell_type": "code",
   "execution_count": 2,
   "id": "84a68b5d",
   "metadata": {},
   "outputs": [],
   "source": [
    "graph = nx.read_graphml(\"../data/municipalities_peaks_castles.graphml\")"
   ]
  },
  {
   "cell_type": "code",
   "execution_count": 3,
   "id": "5eeb71a0",
   "metadata": {},
   "outputs": [
    {
     "name": "stdout",
     "output_type": "stream",
     "text": [
      "Generated 1 questions after 1 attempts.\n",
      "QA(question='Kakšna je površina občine, kjer stoji grad Grad Komenda?', answer='34.0 km²', num_facts=9)\n",
      "<34.0> <je_površina_občine> <Občina Sveti Jurij v Slovenskih goricah>.\n",
      "<34.0> <je_površina_občine> <Občina Starše>.\n",
      "<Grad Komenda> <se_nahaja_v> <Občina Komenda>.\n",
      "<Občina Polzela> <se_nahaja_v> <savinjska statistična regija>.\n",
      "<Občina Polzela> <ima_grad> <Grad Komenda>.\n",
      "<Občina Polzela> <ima_površino> <34.0>.\n",
      "<34.0> <je_površina_občine> <Občina Polzela>.\n",
      "<Grad Komenda> <se_nahaja_v> <Občina Polzela>.\n",
      "<Občina Polzela> <ima_populacijo> <6346>.\n"
     ]
    }
   ],
   "source": [
    "generator = QAGenerator()\n",
    "qas = generator.generate_questions(graph, TEMPLATES, num_questions=1, add_distractors=10)\n",
    "for qa in qas:\n",
    "\tprint(qa)\n",
    "\tfor fact in qa.context_facts:\n",
    "\t\tprint(fact)"
   ]
  }
 ],
 "metadata": {
  "kernelspec": {
   "display_name": ".venv",
   "language": "python",
   "name": "python3"
  },
  "language_info": {
   "codemirror_mode": {
    "name": "ipython",
    "version": 3
   },
   "file_extension": ".py",
   "mimetype": "text/x-python",
   "name": "python",
   "nbconvert_exporter": "python",
   "pygments_lexer": "ipython3",
   "version": "3.10.17"
  }
 },
 "nbformat": 4,
 "nbformat_minor": 5
}
